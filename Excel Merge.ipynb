{
 "cells": [
  {
   "cell_type": "code",
   "execution_count": 1,
   "metadata": {},
   "outputs": [],
   "source": [
    "import pandas as pd"
   ]
  },
  {
   "cell_type": "code",
   "execution_count": 7,
   "metadata": {},
   "outputs": [],
   "source": [
    "excel_names = [\"FW_Apr.xlsx\",\"FW_May.xlsx\",\"FW_Jun.xlsx\"]\n",
    "excels = [pd.ExcelFile(name) for name in excel_names]\n",
    "frames = [x.parse(x.sheet_names[0], header=None,index_col=None) for x in excels]\n",
    "frames[1:] = [df[1:] for df in frames[1:]]\n",
    "combined = pd.concat(frames)\n",
    "combined.to_excel(\"Final.xlsx\", header=False, index=False)"
   ]
  },
  {
   "cell_type": "code",
   "execution_count": null,
   "metadata": {},
   "outputs": [],
   "source": []
  }
 ],
 "metadata": {
  "kernelspec": {
   "display_name": "Python 2",
   "language": "python",
   "name": "python2"
  },
  "language_info": {
   "codemirror_mode": {
    "name": "ipython",
    "version": 2
   },
   "file_extension": ".py",
   "mimetype": "text/x-python",
   "name": "python",
   "nbconvert_exporter": "python",
   "pygments_lexer": "ipython2",
   "version": "2.7.14"
  }
 },
 "nbformat": 4,
 "nbformat_minor": 2
}
