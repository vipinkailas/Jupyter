{
 "cells": [
  {
   "cell_type": "code",
   "execution_count": 13,
   "metadata": {},
   "outputs": [],
   "source": [
    "import pandas\n",
    "from __future__ import division\n",
    "bikes = pandas.read_csv(\"bike_rental_day.csv\")"
   ]
  },
  {
   "cell_type": "code",
   "execution_count": 17,
   "metadata": {},
   "outputs": [
    {
     "name": "stdout",
     "output_type": "stream",
     "text": [
      "633\n",
      "0.865937072503\n"
     ]
    }
   ],
   "source": [
    "days_over_threshold = bikes[bikes[\"cnt\"] > 2000].shape[0]\n",
    "total_days = bikes.shape[0]\n",
    "probability_over_2000 = days_over_threshold / total_days\n",
    "print(days_over_threshold)\n",
    "print(probability_over_2000)\n"
   ]
  },
  {
   "cell_type": "code",
   "execution_count": 16,
   "metadata": {},
   "outputs": [
    {
     "name": "stdout",
     "output_type": "stream",
     "text": [
      "0.618331053352\n"
     ]
    }
   ],
   "source": [
    "days_over_threshold = bikes[bikes[\"cnt\"] > 4000].shape[0]\n",
    "probability_over_4000 = days_over_threshold / total_days\n",
    "print(probability_over_4000)"
   ]
  },
  {
   "cell_type": "code",
   "execution_count": 19,
   "metadata": {},
   "outputs": [
    {
     "name": "stdout",
     "output_type": "stream",
     "text": [
      "[3.6299032553937196e-07, 6.962273457066644e-06, 6.454369901592111e-05, 0.0003851460072425456, 0.0016621260066655757, 0.0055258877729799805, 0.014720602673922079, 0.03226811265290648, 0.0593124939542154, 0.09269602880276286, 0.12445581572043082, 0.1446729303456573, 0.14645169588269408, 0.12964576356828655, 0.10065004829715923, 0.06864003293707908, 0.04114182302068777, 0.021661943461230015, 0.010002372800404023, 0.004038921890068234, 0.0014202438449502238, 0.00043239273968039596, 0.00011309228884338226, 2.5149532515420715e-05, 4.6897693829985355e-06, 7.196105151617426e-07, 8.847670268382081e-08, 8.380306993731663e-09, 5.740608420764663e-10, 2.5311896937232547e-11, 5.394338691541363e-13]\n"
     ]
    }
   ],
   "source": [
    "import math\n",
    "outcome_counts = list(range(31))\n",
    "def find_probbility(N,k,p,q):\n",
    "    term_1 = p ** k\n",
    "    term_2 = q ** (N-k)\n",
    "    combo_prob = term_1 * term_2\n",
    "    \n",
    "    numerator = math.factorial(N)\n",
    "    denominator = math.factorial(k) * math.factorial(N-k)\n",
    "    combo_count = numerator / denominator\n",
    "    \n",
    "    return combo_prob * combo_count\n",
    "\n",
    "outcome_probs = [find_probbility(30,i,.39,.61) for i in outcome_counts]\n",
    "print(outcome_probs)"
   ]
  },
  {
   "cell_type": "code",
   "execution_count": 5,
   "metadata": {},
   "outputs": [
    {
     "data": {
      "image/png": "[encoded data removed]",
      "text/plain": [
       "<matplotlib.figure.Figure at 0x1a120cee50>"
      ]
     },
     "metadata": {},
     "output_type": "display_data"
    }
   ],
   "source": [
    "import scipy\n",
    "from scipy import linspace\n",
    "from scipy.stats import binom\n",
    "import matplotlib.pyplot as plt\n",
    "outcome_counts = linspace(0,30,31)\n",
    "outcome_probs = binom.pmf(outcome_counts,30,0.39)\n",
    "plt.bar(outcome_counts,outcome_probs)\n",
    "plt.show()"
   ]
  },
  {
   "cell_type": "code",
   "execution_count": null,
   "metadata": {},
   "outputs": [],
   "source": []
  }
 ],
 "metadata": {
  "kernelspec": {
   "display_name": "Python 2",
   "language": "python",
   "name": "python2"
  },
  "language_info": {
   "codemirror_mode": {
    "name": "ipython",
    "version": 2
   },
   "file_extension": ".py",
   "mimetype": "text/x-python",
   "name": "python",
   "nbconvert_exporter": "python",
   "pygments_lexer": "ipython2",
   "version": "2.7.14"
  }
 },
 "nbformat": 4,
 "nbformat_minor": 2
}
